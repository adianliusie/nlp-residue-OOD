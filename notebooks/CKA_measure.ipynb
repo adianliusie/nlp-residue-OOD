{
 "cells": [
  {
   "cell_type": "code",
   "execution_count": 2,
   "id": "d49d5b1a",
   "metadata": {},
   "outputs": [
    {
     "name": "stdout",
     "output_type": "stream",
     "text": [
      "/home/alta/Conversational/OET/al826/2022/shortcuts/OOD_generalisation\n"
     ]
    }
   ],
   "source": [
    "%cd .."
   ]
  },
  {
   "cell_type": "code",
   "execution_count": 3,
   "id": "94cf2789",
   "metadata": {},
   "outputs": [
    {
     "name": "stdout",
     "output_type": "stream",
     "text": [
      "###################\n",
      "imdb\n",
      "###################\n"
     ]
    },
    {
     "name": "stderr",
     "output_type": "stream",
     "text": [
      "Reusing dataset imdb (/home/alta/Conversational/OET/al826/.cache/huggingface/datasets/imdb/plain_text/1.0.0/2fdd8b9bcadd6e7055e742a706876ba43f19faee861df134affd7a3f60fc38a1)\n"
     ]
    },
    {
     "data": {
      "application/vnd.jupyter.widget-view+json": {
       "model_id": "fc49c649d50244bea57c42c3fefb88c7",
       "version_major": 2,
       "version_minor": 0
      },
      "text/plain": [
       "  0%|          | 0/3 [00:00<?, ?it/s]"
      ]
     },
     "metadata": {},
     "output_type": "display_data"
    },
    {
     "name": "stderr",
     "output_type": "stream",
     "text": [
      "  0%|                                                                        | 0/500 [00:00<?, ?it/s]Token indices sequence length is longer than the specified maximum sequence length for this model (561 > 512). Running this sequence through the model will result in indexing errors\n",
      "100%|████████████████████████████████████████████████████████████| 500/500 [00:00<00:00, 1403.48it/s]\n"
     ]
    },
    {
     "name": "stdout",
     "output_type": "stream",
     "text": [
      "###################\n",
      "imdb\n",
      "###################\n"
     ]
    },
    {
     "name": "stderr",
     "output_type": "stream",
     "text": [
      "Reusing dataset imdb (/home/alta/Conversational/OET/al826/.cache/huggingface/datasets/imdb/plain_text/1.0.0/2fdd8b9bcadd6e7055e742a706876ba43f19faee861df134affd7a3f60fc38a1)\n"
     ]
    },
    {
     "data": {
      "application/vnd.jupyter.widget-view+json": {
       "model_id": "ebd9332e92274259b197e9eee9105648",
       "version_major": 2,
       "version_minor": 0
      },
      "text/plain": [
       "  0%|          | 0/3 [00:00<?, ?it/s]"
      ]
     },
     "metadata": {},
     "output_type": "display_data"
    },
    {
     "name": "stderr",
     "output_type": "stream",
     "text": [
      "  0%|                                                                        | 0/500 [00:00<?, ?it/s]Token indices sequence length is longer than the specified maximum sequence length for this model (561 > 512). Running this sequence through the model will result in indexing errors\n",
      "100%|████████████████████████████████████████████████████████████| 500/500 [00:00<00:00, 1412.23it/s]\n"
     ]
    }
   ],
   "source": [
    "from src.analysis.model_analyser import ModelAnalyser\n",
    "\n",
    "system_1 = ModelAnalyser('trained_models/baselines/imdb/0')\n",
    "system_vecs_1 = system_1.get_cls_vectors('imdb', mode='dev', lim=500, quiet=True)\n",
    "\n",
    "system_2 = ModelAnalyser('trained_models/multi_task/imdb_sst/0')\n",
    "system_vecs_2 = system_2.get_cls_vectors('imdb', mode='dev', lim=500, quiet=True)"
   ]
  },
  {
   "cell_type": "code",
   "execution_count": null,
   "id": "5948bf04",
   "metadata": {},
   "outputs": [],
   "source": [
    "system_3 = ModelAnalyser('trained_models/baselines/imdb/0')\n",
    "system_vecs_3 = system_3.get_cls_vectors('imdb', mode='dev', lim=500, quiet=True)\n"
   ]
  },
  {
   "cell_type": "code",
   "execution_count": 5,
   "id": "4a6bebc1",
   "metadata": {},
   "outputs": [
    {
     "data": {
      "text/plain": [
       "0.9445331523069929"
      ]
     },
     "execution_count": 5,
     "metadata": {},
     "output_type": "execute_result"
    }
   ],
   "source": [
    "import numpy as np\n",
    "from src.analysis.CKA import kernel_CKA\n",
    "\n",
    "def measure_similarity(vecs_1:list, vecs_2:list)->float:\n",
    "    assert vecs_1.keys() == vecs_2.keys()\n",
    "    ex_ids = vecs_1.keys()\n",
    "\n",
    "    W1 = np.array([vecs_1[i] for i in ex_ids])\n",
    "    W2 = np.array([vecs_2[i] for i in ex_ids])\n",
    "    return kernel_CKA(W1, W2)\n",
    "\n",
    "measure_similarity(system_vecs_1, system_vecs_2)"
   ]
  },
  {
   "cell_type": "code",
   "execution_count": 4,
   "id": "df08d6ae",
   "metadata": {},
   "outputs": [
    {
     "data": {
      "text/plain": [
       "0.9999998"
      ]
     },
     "execution_count": 4,
     "metadata": {},
     "output_type": "execute_result"
    }
   ],
   "source": [
    "import numpy as np\n",
    "\n",
    "def measure_similarity(vecs_1:list, vecs_2:list)->float:\n",
    "    assert vecs_1.keys() == vecs_2.keys()\n",
    "    ex_ids = vecs_1.keys()\n",
    "    \n",
    "    W1 = np.array([vecs_1[i] for i in ex_ids])\n",
    "    W2 = np.array([vecs_2[i] for i in ex_ids])\n",
    "\n",
    "    W1_c = W1 - np.mean(W1, axis=0)\n",
    "    W2_c = W2 - np.mean(W2, axis=0)\n",
    "    \n",
    "    W1_sim = np.matmul(W1_c.T, W1_c).reshape(-1)\n",
    "    W2_sim = np.matmul(W2_c.T, W2_c).reshape(-1)\n",
    "\n",
    "    W1_norm = W1_sim/np.linalg.norm(W1_sim)\n",
    "    W2_norm = W2_sim/np.linalg.norm(W2_sim)\n",
    "\n",
    "    score = np.dot(W1_norm, W2_norm)\n",
    "    return score\n",
    "\n",
    "measure_similarity(system_vecs_2, system_vecs_2)"
   ]
  },
  {
   "cell_type": "code",
   "execution_count": 5,
   "id": "ebaaa49d",
   "metadata": {},
   "outputs": [
    {
     "ename": "NameError",
     "evalue": "name 'system_vecs' is not defined",
     "output_type": "error",
     "traceback": [
      "\u001b[0;31m---------------------------------------------------------------------------\u001b[0m",
      "\u001b[0;31mNameError\u001b[0m                                 Traceback (most recent call last)",
      "Input \u001b[0;32mIn [5]\u001b[0m, in \u001b[0;36m<cell line: 3>\u001b[0;34m()\u001b[0m\n\u001b[1;32m      1\u001b[0m \u001b[38;5;28;01mimport\u001b[39;00m \u001b[38;5;21;01mnumpy\u001b[39;00m \u001b[38;5;28;01mas\u001b[39;00m \u001b[38;5;21;01mnp\u001b[39;00m\n\u001b[0;32m----> 3\u001b[0m ex_ids \u001b[38;5;241m=\u001b[39m \u001b[43msystem_vecs\u001b[49m\u001b[38;5;241m.\u001b[39mkeys()\n\u001b[1;32m      4\u001b[0m vectors \u001b[38;5;241m=\u001b[39m np\u001b[38;5;241m.\u001b[39marray([system_vecs[i] \u001b[38;5;28;01mfor\u001b[39;00m i \u001b[38;5;129;01min\u001b[39;00m ex_ids])\n\u001b[1;32m      5\u001b[0m vecs \u001b[38;5;241m=\u001b[39m np\u001b[38;5;241m.\u001b[39marray(vectors)\n",
      "\u001b[0;31mNameError\u001b[0m: name 'system_vecs' is not defined"
     ]
    }
   ],
   "source": [
    "import numpy as np\n",
    "\n",
    "ex_ids = system_vecs.keys()\n",
    "vectors = np.array([system_vecs[i] for i in ex_ids])\n",
    "vecs = np.array(vectors)\n",
    "print(vecs.shape)"
   ]
  },
  {
   "cell_type": "code",
   "execution_count": null,
   "id": "317c8d5d",
   "metadata": {},
   "outputs": [],
   "source": [
    "print(np.mean(vecs, axis=0).shape)"
   ]
  },
  {
   "cell_type": "code",
   "execution_count": null,
   "id": "922e6f11",
   "metadata": {},
   "outputs": [],
   "source": [
    "import math \n",
    "import numpy as np\n",
    "\n",
    "def centering(K):\n",
    "    n = K.shape[0]\n",
    "    unit = np.ones([n, n])\n",
    "    I = np.eye(n)\n",
    "    H = I - unit / n\n",
    "\n",
    "    return np.dot(np.dot(H, K), H)  # HKH are the same with KH, KH is the first centering, H(KH) do the second time, results are the sme with one time centering\n",
    "    # return np.dot(H, K)  # KH\n",
    "\n",
    "\n",
    "def rbf(X, sigma=None):\n",
    "    GX = np.dot(X, X.T)\n",
    "    KX = np.diag(GX) - GX + (np.diag(GX) - GX).T\n",
    "    if sigma is None:\n",
    "        mdist = np.median(KX[KX != 0])\n",
    "        sigma = math.sqrt(mdist)\n",
    "    KX *= - 0.5 / (sigma * sigma)\n",
    "    KX = np.exp(KX)\n",
    "    return KX\n",
    "\n",
    "\n",
    "def kernel_HSIC(X, Y, sigma):\n",
    "    return np.sum(centering(rbf(X, sigma)) * centering(rbf(Y, sigma)))\n",
    "\n",
    "\n",
    "def linear_HSIC(X, Y):\n",
    "    L_X = np.dot(X, X.T)\n",
    "    L_Y = np.dot(Y, Y.T)\n",
    "    return np.sum(centering(L_X) * centering(L_Y))\n",
    "\n",
    "\n",
    "def linear_CKA(X, Y):\n",
    "    hsic = linear_HSIC(X, Y)\n",
    "    var1 = np.sqrt(linear_HSIC(X, X))\n",
    "    var2 = np.sqrt(linear_HSIC(Y, Y))\n",
    "    return hsic / (var1 * var2)\n",
    "\n",
    "\n",
    "def kernel_CKA(X, Y, sigma=None):\n",
    "    hsic = kernel_HSIC(X, Y, sigma)\n",
    "    var1 = np.sqrt(kernel_HSIC(X, X, sigma))\n",
    "    var2 = np.sqrt(kernel_HSIC(Y, Y, sigma))\n",
    "    return hsic / (var1 * var2)\n"
   ]
  },
  {
   "cell_type": "code",
   "execution_count": null,
   "id": "267e20ac",
   "metadata": {},
   "outputs": [],
   "source": []
  },
  {
   "cell_type": "code",
   "execution_count": null,
   "id": "e586b855",
   "metadata": {},
   "outputs": [],
   "source": []
  }
 ],
 "metadata": {
  "kernelspec": {
   "display_name": "Python 3 (ipykernel)",
   "language": "python",
   "name": "python3"
  },
  "language_info": {
   "codemirror_mode": {
    "name": "ipython",
    "version": 3
   },
   "file_extension": ".py",
   "mimetype": "text/x-python",
   "name": "python",
   "nbconvert_exporter": "python",
   "pygments_lexer": "ipython3",
   "version": "3.9.12"
  }
 },
 "nbformat": 4,
 "nbformat_minor": 5
}
