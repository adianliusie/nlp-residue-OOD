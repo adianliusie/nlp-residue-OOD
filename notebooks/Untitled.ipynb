{
 "cells": [
  {
   "cell_type": "code",
   "execution_count": 1,
   "id": "ad7874bd",
   "metadata": {},
   "outputs": [
    {
     "name": "stdout",
     "output_type": "stream",
     "text": [
      "/home/alta/Conversational/OET/al826/2022/shortcuts/data_pruning\n"
     ]
    }
   ],
   "source": [
    "%cd .."
   ]
  },
  {
   "cell_type": "code",
   "execution_count": 1,
   "id": "94a462c1",
   "metadata": {},
   "outputs": [
    {
     "data": {
      "application/vnd.jupyter.widget-view+json": {
       "model_id": "e4bc7c38328d4377922247008a8c6999",
       "version_major": 2,
       "version_minor": 0
      },
      "text/plain": [
       "Downloading builder script:   0%|          | 0.00/1.97k [00:00<?, ?B/s]"
      ]
     },
     "metadata": {},
     "output_type": "display_data"
    },
    {
     "data": {
      "application/vnd.jupyter.widget-view+json": {
       "model_id": "3c6f1279fdc44d34ac67b408e6a255b3",
       "version_major": 2,
       "version_minor": 0
      },
      "text/plain": [
       "Downloading metadata:   0%|          | 0.00/1.07k [00:00<?, ?B/s]"
      ]
     },
     "metadata": {},
     "output_type": "display_data"
    },
    {
     "name": "stdout",
     "output_type": "stream",
     "text": [
      "Downloading and preparing dataset hans/plain_text (download: 29.51 MiB, generated: 30.34 MiB, post-processed: Unknown size, total: 59.85 MiB) to /home/alta/Conversational/OET/al826/.cache/huggingface/datasets/hans/plain_text/1.0.0/452e93cf5383f5ae39088254215b517d0da98ccaaf0af8f7ab04d8f23f67dbd9...\n"
     ]
    },
    {
     "data": {
      "application/vnd.jupyter.widget-view+json": {
       "model_id": "41eff7be8fcf485eb6c8929da25792b4",
       "version_major": 2,
       "version_minor": 0
      },
      "text/plain": [
       "Downloading data:   0%|          | 0.00/1.47M [00:00<?, ?B/s]"
      ]
     },
     "metadata": {},
     "output_type": "display_data"
    },
    {
     "data": {
      "application/vnd.jupyter.widget-view+json": {
       "model_id": "409f5da65ead4090b03cf1e3b7c28946",
       "version_major": 2,
       "version_minor": 0
      },
      "text/plain": [
       "Downloading data:   0%|          | 0.00/1.47M [00:00<?, ?B/s]"
      ]
     },
     "metadata": {},
     "output_type": "display_data"
    },
    {
     "data": {
      "application/vnd.jupyter.widget-view+json": {
       "model_id": "",
       "version_major": 2,
       "version_minor": 0
      },
      "text/plain": [
       "Generating train split:   0%|          | 0/30000 [00:00<?, ? examples/s]"
      ]
     },
     "metadata": {},
     "output_type": "display_data"
    },
    {
     "data": {
      "application/vnd.jupyter.widget-view+json": {
       "model_id": "",
       "version_major": 2,
       "version_minor": 0
      },
      "text/plain": [
       "Generating validation split:   0%|          | 0/30000 [00:00<?, ? examples/s]"
      ]
     },
     "metadata": {},
     "output_type": "display_data"
    },
    {
     "name": "stdout",
     "output_type": "stream",
     "text": [
      "Dataset hans downloaded and prepared to /home/alta/Conversational/OET/al826/.cache/huggingface/datasets/hans/plain_text/1.0.0/452e93cf5383f5ae39088254215b517d0da98ccaaf0af8f7ab04d8f23f67dbd9. Subsequent calls will reuse this data.\n"
     ]
    },
    {
     "data": {
      "application/vnd.jupyter.widget-view+json": {
       "model_id": "7e79aab0c2b6495ba25d4a60886aa1cc",
       "version_major": 2,
       "version_minor": 0
      },
      "text/plain": [
       "  0%|          | 0/2 [00:00<?, ?it/s]"
      ]
     },
     "metadata": {},
     "output_type": "display_data"
    }
   ],
   "source": [
    "from datasets import load_dataset\n",
    "\n",
    "dataset = load_dataset(\"hans\")\n"
   ]
  },
  {
   "cell_type": "code",
   "execution_count": 3,
   "id": "0cd08b14",
   "metadata": {},
   "outputs": [
    {
     "name": "stdout",
     "output_type": "stream",
     "text": [
      "{'premise': 'The doctors supported the scientist .', 'hypothesis': 'The scientist supported the doctors .', 'label': 1, 'parse_premise': '(ROOT (S (NP (DT The) (NNS doctors)) (VP (VBD supported) (NP (DT the) (NN scientist))) (. .)))', 'parse_hypothesis': '(ROOT (S (NP (DT The) (NN scientist)) (VP (VBD supported) (NP (DT the) (NNS doctors))) (. .)))', 'binary_parse_premise': '( ( The doctors ) ( ( supported ( the scientist ) ) . ) )', 'binary_parse_hypothesis': '( ( The scientist ) ( ( supported ( the doctors ) ) . ) )', 'heuristic': 'lexical_overlap', 'subcase': 'ln_subject/object_swap', 'template': 'temp1'}\n",
      "{'premise': 'The athletes introduced the tourist .', 'hypothesis': 'The tourist introduced the athletes .', 'label': 1, 'parse_premise': '(ROOT (S (NP (DT The) (NNS athletes)) (VP (VBD introduced) (NP (DT the) (NN tourist))) (. .)))', 'parse_hypothesis': '(ROOT (S (NP (DT The) (NN tourist)) (VP (VBD introduced) (NP (DT the) (NNS athletes))) (. .)))', 'binary_parse_premise': '( ( The athletes ) ( ( introduced ( the tourist ) ) . ) )', 'binary_parse_hypothesis': '( ( The tourist ) ( ( introduced ( the athletes ) ) . ) )', 'heuristic': 'lexical_overlap', 'subcase': 'ln_subject/object_swap', 'template': 'temp1'}\n",
      "{'premise': 'The secretaries introduced the judges .', 'hypothesis': 'The judges introduced the secretaries .', 'label': 1, 'parse_premise': '(ROOT (S (NP (DT The) (NNS secretaries)) (VP (VBD introduced) (NP (DT the) (NNS judges))) (. .)))', 'parse_hypothesis': '(ROOT (S (NP (DT The) (NNS judges)) (VP (VBD introduced) (NP (DT the) (NNS secretaries))) (. .)))', 'binary_parse_premise': '( ( The secretaries ) ( ( introduced ( the judges ) ) . ) )', 'binary_parse_hypothesis': '( ( The judges ) ( ( introduced ( the secretaries ) ) . ) )', 'heuristic': 'lexical_overlap', 'subcase': 'ln_subject/object_swap', 'template': 'temp1'}\n",
      "{'premise': 'The doctor saw the athletes .', 'hypothesis': 'The athletes saw the doctor .', 'label': 1, 'parse_premise': '(ROOT (S (NP (DT The) (NN doctor)) (VP (VBD saw) (NP (DT the) (NNS athletes))) (. .)))', 'parse_hypothesis': '(ROOT (S (NP (DT The) (NNS athletes)) (VP (VBD saw) (NP (DT the) (NN doctor))) (. .)))', 'binary_parse_premise': '( ( The doctor ) ( ( saw ( the athletes ) ) . ) )', 'binary_parse_hypothesis': '( ( The athletes ) ( ( saw ( the doctor ) ) . ) )', 'heuristic': 'lexical_overlap', 'subcase': 'ln_subject/object_swap', 'template': 'temp1'}\n",
      "{'premise': 'The judge encouraged the athlete .', 'hypothesis': 'The athlete encouraged the judge .', 'label': 1, 'parse_premise': '(ROOT (S (NP (DT The) (NN judge)) (VP (VBD encouraged) (NP (DT the) (NN athlete))) (. .)))', 'parse_hypothesis': '(ROOT (S (NP (DT The) (NN athlete)) (VP (VBD encouraged) (NP (DT the) (NN judge))) (. .)))', 'binary_parse_premise': '( ( The judge ) ( ( encouraged ( the athlete ) ) . ) )', 'binary_parse_hypothesis': '( ( The athlete ) ( ( encouraged ( the judge ) ) . ) )', 'heuristic': 'lexical_overlap', 'subcase': 'ln_subject/object_swap', 'template': 'temp1'}\n",
      "{'premise': 'The actor recommended the managers .', 'hypothesis': 'The managers recommended the actor .', 'label': 1, 'parse_premise': '(ROOT (S (NP (DT The) (NN actor)) (VP (VBD recommended) (NP (DT the) (NNS managers))) (. .)))', 'parse_hypothesis': '(ROOT (S (NP (DT The) (NNS managers)) (VP (VBD recommended) (NP (DT the) (NN actor))) (. .)))', 'binary_parse_premise': '( ( The actor ) ( ( recommended ( the managers ) ) . ) )', 'binary_parse_hypothesis': '( ( The managers ) ( ( recommended ( the actor ) ) . ) )', 'heuristic': 'lexical_overlap', 'subcase': 'ln_subject/object_swap', 'template': 'temp1'}\n",
      "{'premise': 'The actor recognized the professors .', 'hypothesis': 'The professors recognized the actor .', 'label': 1, 'parse_premise': '(ROOT (S (NP (DT The) (NN actor)) (VP (VBD recognized) (NP (DT the) (NNS professors))) (. .)))', 'parse_hypothesis': '(ROOT (S (NP (DT The) (NNS professors)) (VP (VBD recognized) (NP (DT the) (NN actor))) (. .)))', 'binary_parse_premise': '( ( The actor ) ( ( recognized ( the professors ) ) . ) )', 'binary_parse_hypothesis': '( ( The professors ) ( ( recognized ( the actor ) ) . ) )', 'heuristic': 'lexical_overlap', 'subcase': 'ln_subject/object_swap', 'template': 'temp1'}\n",
      "{'premise': 'The senator believed the secretary .', 'hypothesis': 'The secretary believed the senator .', 'label': 1, 'parse_premise': '(ROOT (S (NP (DT The) (NN senator)) (VP (VBD believed) (NP (DT the) (NN secretary))) (. .)))', 'parse_hypothesis': '(ROOT (S (NP (DT The) (NN secretary)) (VP (VBD believed) (NP (DT the) (NN senator))) (. .)))', 'binary_parse_premise': '( ( The senator ) ( ( believed ( the secretary ) ) . ) )', 'binary_parse_hypothesis': '( ( The secretary ) ( ( believed ( the senator ) ) . ) )', 'heuristic': 'lexical_overlap', 'subcase': 'ln_subject/object_swap', 'template': 'temp1'}\n",
      "{'premise': 'The presidents contacted the athletes .', 'hypothesis': 'The athletes contacted the presidents .', 'label': 1, 'parse_premise': '(ROOT (S (NP (DT The) (NNS presidents)) (VP (VBD contacted) (NP (DT the) (NNS athletes))) (. .)))', 'parse_hypothesis': '(ROOT (S (NP (DT The) (NNS athletes)) (VP (VBD contacted) (NP (DT the) (NNS presidents))) (. .)))', 'binary_parse_premise': '( ( The presidents ) ( ( contacted ( the athletes ) ) . ) )', 'binary_parse_hypothesis': '( ( The athletes ) ( ( contacted ( the presidents ) ) . ) )', 'heuristic': 'lexical_overlap', 'subcase': 'ln_subject/object_swap', 'template': 'temp1'}\n",
      "{'premise': 'The judges supported the actors .', 'hypothesis': 'The actors supported the judges .', 'label': 1, 'parse_premise': '(ROOT (S (NP (DT The) (NNS judges)) (VP (VBD supported) (NP (DT the) (NNS actors))) (. .)))', 'parse_hypothesis': '(ROOT (S (NP (DT The) (NNS actors)) (VP (VBD supported) (NP (DT the) (NNS judges))) (. .)))', 'binary_parse_premise': '( ( The judges ) ( ( supported ( the actors ) ) . ) )', 'binary_parse_hypothesis': '( ( The actors ) ( ( supported ( the judges ) ) . ) )', 'heuristic': 'lexical_overlap', 'subcase': 'ln_subject/object_swap', 'template': 'temp1'}\n",
      "{'premise': 'The lawyers advised the authors .', 'hypothesis': 'The authors advised the lawyers .', 'label': 1, 'parse_premise': '(ROOT (S (NP (DT The) (NNS lawyers)) (VP (VBD advised) (NP (DT the) (NNS authors))) (. .)))', 'parse_hypothesis': '(ROOT (S (NP (DT The) (NNS authors)) (VP (VBD advised) (NP (DT the) (NNS lawyers))) (. .)))', 'binary_parse_premise': '( ( The lawyers ) ( ( advised ( the authors ) ) . ) )', 'binary_parse_hypothesis': '( ( The authors ) ( ( advised ( the lawyers ) ) . ) )', 'heuristic': 'lexical_overlap', 'subcase': 'ln_subject/object_swap', 'template': 'temp1'}\n",
      "{'premise': 'The banker introduced the authors .', 'hypothesis': 'The authors introduced the banker .', 'label': 1, 'parse_premise': '(ROOT (S (NP (DT The) (NN banker)) (VP (VBD introduced) (NP (DT the) (NNS authors))) (. .)))', 'parse_hypothesis': '(ROOT (S (NP (DT The) (NNS authors)) (VP (VBD introduced) (NP (DT the) (NN banker))) (. .)))', 'binary_parse_premise': '( ( The banker ) ( ( introduced ( the authors ) ) . ) )', 'binary_parse_hypothesis': '( ( The authors ) ( ( introduced ( the banker ) ) . ) )', 'heuristic': 'lexical_overlap', 'subcase': 'ln_subject/object_swap', 'template': 'temp1'}\n",
      "{'premise': 'The judge called the lawyers .', 'hypothesis': 'The lawyers called the judge .', 'label': 1, 'parse_premise': '(ROOT (S (NP (DT The) (NN judge)) (VP (VBD called) (NP (DT the) (NNS lawyers))) (. .)))', 'parse_hypothesis': '(ROOT (S (NP (DT The) (NNS lawyers)) (VP (VBD called) (NP (DT the) (NN judge))) (. .)))', 'binary_parse_premise': '( ( The judge ) ( ( called ( the lawyers ) ) . ) )', 'binary_parse_hypothesis': '( ( The lawyers ) ( ( called ( the judge ) ) . ) )', 'heuristic': 'lexical_overlap', 'subcase': 'ln_subject/object_swap', 'template': 'temp1'}\n",
      "{'premise': 'The lawyer helped the judges .', 'hypothesis': 'The judges helped the lawyer .', 'label': 1, 'parse_premise': '(ROOT (S (NP (DT The) (NN lawyer)) (VP (VBD helped) (NP (DT the) (NNS judges))) (. .)))', 'parse_hypothesis': '(ROOT (S (NP (DT The) (NNS judges)) (VP (VBD helped) (NP (DT the) (NN lawyer))) (. .)))', 'binary_parse_premise': '( ( The lawyer ) ( ( helped ( the judges ) ) . ) )', 'binary_parse_hypothesis': '( ( The judges ) ( ( helped ( the lawyer ) ) . ) )', 'heuristic': 'lexical_overlap', 'subcase': 'ln_subject/object_swap', 'template': 'temp1'}\n"
     ]
    },
    {
     "name": "stdout",
     "output_type": "stream",
     "text": [
      "{'premise': 'The actor avoided the authors .', 'hypothesis': 'The authors avoided the actor .', 'label': 1, 'parse_premise': '(ROOT (S (NP (DT The) (NN actor)) (VP (VBD avoided) (NP (DT the) (NNS authors))) (. .)))', 'parse_hypothesis': '(ROOT (S (NP (DT The) (NNS authors)) (VP (VBD avoided) (NP (DT the) (NN actor))) (. .)))', 'binary_parse_premise': '( ( The actor ) ( ( avoided ( the authors ) ) . ) )', 'binary_parse_hypothesis': '( ( The authors ) ( ( avoided ( the actor ) ) . ) )', 'heuristic': 'lexical_overlap', 'subcase': 'ln_subject/object_swap', 'template': 'temp1'}\n",
      "{'premise': 'The scientist admired the actors .', 'hypothesis': 'The actors admired the scientist .', 'label': 1, 'parse_premise': '(ROOT (S (NP (DT The) (NN scientist)) (VP (VBD admired) (NP (DT the) (NNS actors))) (. .)))', 'parse_hypothesis': '(ROOT (S (NP (DT The) (NNS actors)) (VP (VBD admired) (NP (DT the) (NN scientist))) (. .)))', 'binary_parse_premise': '( ( The scientist ) ( ( admired ( the actors ) ) . ) )', 'binary_parse_hypothesis': '( ( The actors ) ( ( admired ( the scientist ) ) . ) )', 'heuristic': 'lexical_overlap', 'subcase': 'ln_subject/object_swap', 'template': 'temp1'}\n",
      "{'premise': 'The secretary stopped the manager .', 'hypothesis': 'The manager stopped the secretary .', 'label': 1, 'parse_premise': '(ROOT (S (NP (DT The) (NN secretary)) (VP (VBD stopped) (NP (DT the) (NN manager))) (. .)))', 'parse_hypothesis': '(ROOT (S (NP (DT The) (NN manager)) (VP (VBD stopped) (NP (DT the) (NN secretary))) (. .)))', 'binary_parse_premise': '( ( The secretary ) ( ( stopped ( the manager ) ) . ) )', 'binary_parse_hypothesis': '( ( The manager ) ( ( stopped ( the secretary ) ) . ) )', 'heuristic': 'lexical_overlap', 'subcase': 'ln_subject/object_swap', 'template': 'temp1'}\n",
      "{'premise': 'The tourists saw the authors .', 'hypothesis': 'The authors saw the tourists .', 'label': 1, 'parse_premise': '(ROOT (S (NP (DT The) (NNS tourists)) (VP (VBD saw) (NP (DT the) (NNS authors))) (. .)))', 'parse_hypothesis': '(ROOT (S (NP (DT The) (NNS authors)) (VP (VBD saw) (NP (DT the) (NNS tourists))) (. .)))', 'binary_parse_premise': '( ( The tourists ) ( ( saw ( the authors ) ) . ) )', 'binary_parse_hypothesis': '( ( The authors ) ( ( saw ( the tourists ) ) . ) )', 'heuristic': 'lexical_overlap', 'subcase': 'ln_subject/object_swap', 'template': 'temp1'}\n",
      "{'premise': 'The tourist introduced the athlete .', 'hypothesis': 'The athlete introduced the tourist .', 'label': 1, 'parse_premise': '(ROOT (S (NP (DT The) (NN tourist)) (VP (VBD introduced) (NP (DT the) (NN athlete))) (. .)))', 'parse_hypothesis': '(ROOT (S (NP (DT The) (NN athlete)) (VP (VBD introduced) (NP (DT the) (NN tourist))) (. .)))', 'binary_parse_premise': '( ( The tourist ) ( ( introduced ( the athlete ) ) . ) )', 'binary_parse_hypothesis': '( ( The athlete ) ( ( introduced ( the tourist ) ) . ) )', 'heuristic': 'lexical_overlap', 'subcase': 'ln_subject/object_swap', 'template': 'temp1'}\n",
      "{'premise': 'The authors mentioned the banker .', 'hypothesis': 'The banker mentioned the authors .', 'label': 1, 'parse_premise': '(ROOT (S (NP (DT The) (NNS authors)) (VP (VBD mentioned) (NP (DT the) (NN banker))) (. .)))', 'parse_hypothesis': '(ROOT (S (NP (DT The) (NN banker)) (VP (VBD mentioned) (NP (DT the) (NNS authors))) (. .)))', 'binary_parse_premise': '( ( The authors ) ( ( mentioned ( the banker ) ) . ) )', 'binary_parse_hypothesis': '( ( The banker ) ( ( mentioned ( the authors ) ) . ) )', 'heuristic': 'lexical_overlap', 'subcase': 'ln_subject/object_swap', 'template': 'temp1'}\n",
      "{'premise': 'The tourists recommended the managers .', 'hypothesis': 'The managers recommended the tourists .', 'label': 1, 'parse_premise': '(ROOT (S (NP (DT The) (NNS tourists)) (VP (VBD recommended) (NP (DT the) (NNS managers))) (. .)))', 'parse_hypothesis': '(ROOT (S (NP (DT The) (NNS managers)) (VP (VBD recommended) (NP (DT the) (NNS tourists))) (. .)))', 'binary_parse_premise': '( ( The tourists ) ( ( recommended ( the managers ) ) . ) )', 'binary_parse_hypothesis': '( ( The managers ) ( ( recommended ( the tourists ) ) . ) )', 'heuristic': 'lexical_overlap', 'subcase': 'ln_subject/object_swap', 'template': 'temp1'}\n",
      "{'premise': 'The lawyers saw the managers .', 'hypothesis': 'The managers saw the lawyers .', 'label': 1, 'parse_premise': '(ROOT (S (NP (DT The) (NNS lawyers)) (VP (VBD saw) (NP (DT the) (NNS managers))) (. .)))', 'parse_hypothesis': '(ROOT (S (NP (DT The) (NNS managers)) (VP (VBD saw) (NP (DT the) (NNS lawyers))) (. .)))', 'binary_parse_premise': '( ( The lawyers ) ( ( saw ( the managers ) ) . ) )', 'binary_parse_hypothesis': '( ( The managers ) ( ( saw ( the lawyers ) ) . ) )', 'heuristic': 'lexical_overlap', 'subcase': 'ln_subject/object_swap', 'template': 'temp1'}\n",
      "{'premise': 'The lawyers admired the judges .', 'hypothesis': 'The judges admired the lawyers .', 'label': 1, 'parse_premise': '(ROOT (S (NP (DT The) (NNS lawyers)) (VP (VBD admired) (NP (DT the) (NNS judges))) (. .)))', 'parse_hypothesis': '(ROOT (S (NP (DT The) (NNS judges)) (VP (VBD admired) (NP (DT the) (NNS lawyers))) (. .)))', 'binary_parse_premise': '( ( The lawyers ) ( ( admired ( the judges ) ) . ) )', 'binary_parse_hypothesis': '( ( The judges ) ( ( admired ( the lawyers ) ) . ) )', 'heuristic': 'lexical_overlap', 'subcase': 'ln_subject/object_swap', 'template': 'temp1'}\n",
      "{'premise': 'The banker called the athletes .', 'hypothesis': 'The athletes called the banker .', 'label': 1, 'parse_premise': '(ROOT (S (NP (DT The) (NN banker)) (VP (VBD called) (NP (DT the) (NNS athletes))) (. .)))', 'parse_hypothesis': '(ROOT (S (NP (DT The) (NNS athletes)) (VP (VBD called) (NP (DT the) (NN banker))) (. .)))', 'binary_parse_premise': '( ( The banker ) ( ( called ( the athletes ) ) . ) )', 'binary_parse_hypothesis': '( ( The athletes ) ( ( called ( the banker ) ) . ) )', 'heuristic': 'lexical_overlap', 'subcase': 'ln_subject/object_swap', 'template': 'temp1'}\n",
      "{'premise': 'The secretaries introduced the author .', 'hypothesis': 'The author introduced the secretaries .', 'label': 1, 'parse_premise': '(ROOT (S (NP (DT The) (NNS secretaries)) (VP (VBD introduced) (NP (DT the) (NN author))) (. .)))', 'parse_hypothesis': '(ROOT (S (NP (DT The) (NN author)) (VP (VBD introduced) (NP (DT the) (NNS secretaries))) (. .)))', 'binary_parse_premise': '( ( The secretaries ) ( ( introduced ( the author ) ) . ) )', 'binary_parse_hypothesis': '( ( The author ) ( ( introduced ( the secretaries ) ) . ) )', 'heuristic': 'lexical_overlap', 'subcase': 'ln_subject/object_swap', 'template': 'temp1'}\n",
      "{'premise': 'The lawyer mentioned the doctor .', 'hypothesis': 'The doctor mentioned the lawyer .', 'label': 1, 'parse_premise': '(ROOT (S (NP (DT The) (NN lawyer)) (VP (VBD mentioned) (NP (DT the) (NN doctor))) (. .)))', 'parse_hypothesis': '(ROOT (S (NP (DT The) (NN doctor)) (VP (VBD mentioned) (NP (DT the) (NN lawyer))) (. .)))', 'binary_parse_premise': '( ( The lawyer ) ( ( mentioned ( the doctor ) ) . ) )', 'binary_parse_hypothesis': '( ( The doctor ) ( ( mentioned ( the lawyer ) ) . ) )', 'heuristic': 'lexical_overlap', 'subcase': 'ln_subject/object_swap', 'template': 'temp1'}\n",
      "{'premise': 'The senator called the artist .', 'hypothesis': 'The artist called the senator .', 'label': 1, 'parse_premise': '(ROOT (S (NP (DT The) (NN senator)) (VP (VBD called) (NP (DT the) (NN artist))) (. .)))', 'parse_hypothesis': '(ROOT (S (NP (DT The) (NN artist)) (VP (VBD called) (NP (DT the) (NN senator))) (. .)))', 'binary_parse_premise': '( ( The senator ) ( ( called ( the artist ) ) . ) )', 'binary_parse_hypothesis': '( ( The artist ) ( ( called ( the senator ) ) . ) )', 'heuristic': 'lexical_overlap', 'subcase': 'ln_subject/object_swap', 'template': 'temp1'}\n",
      "{'premise': 'The professors avoided the athletes .', 'hypothesis': 'The athletes avoided the professors .', 'label': 1, 'parse_premise': '(ROOT (S (NP (DT The) (NNS professors)) (VP (VBD avoided) (NP (DT the) (NNS athletes))) (. .)))', 'parse_hypothesis': '(ROOT (S (NP (DT The) (NNS athletes)) (VP (VBD avoided) (NP (DT the) (NNS professors))) (. .)))', 'binary_parse_premise': '( ( The professors ) ( ( avoided ( the athletes ) ) . ) )', 'binary_parse_hypothesis': '( ( The athletes ) ( ( avoided ( the professors ) ) . ) )', 'heuristic': 'lexical_overlap', 'subcase': 'ln_subject/object_swap', 'template': 'temp1'}\n"
     ]
    },
    {
     "name": "stdout",
     "output_type": "stream",
     "text": [
      "{'premise': 'The doctors introduced the tourists .', 'hypothesis': 'The tourists introduced the doctors .', 'label': 1, 'parse_premise': '(ROOT (S (NP (DT The) (NNS doctors)) (VP (VBD introduced) (NP (DT the) (NNS tourists))) (. .)))', 'parse_hypothesis': '(ROOT (S (NP (DT The) (NNS tourists)) (VP (VBD introduced) (NP (DT the) (NNS doctors))) (. .)))', 'binary_parse_premise': '( ( The doctors ) ( ( introduced ( the tourists ) ) . ) )', 'binary_parse_hypothesis': '( ( The tourists ) ( ( introduced ( the doctors ) ) . ) )', 'heuristic': 'lexical_overlap', 'subcase': 'ln_subject/object_swap', 'template': 'temp1'}\n",
      "{'premise': 'The manager admired the senator .', 'hypothesis': 'The senator admired the manager .', 'label': 1, 'parse_premise': '(ROOT (S (NP (DT The) (NN manager)) (VP (VBD admired) (NP (DT the) (NN senator))) (. .)))', 'parse_hypothesis': '(ROOT (S (NP (DT The) (NN senator)) (VP (VBD admired) (NP (DT the) (NN manager))) (. .)))', 'binary_parse_premise': '( ( The manager ) ( ( admired ( the senator ) ) . ) )', 'binary_parse_hypothesis': '( ( The senator ) ( ( admired ( the manager ) ) . ) )', 'heuristic': 'lexical_overlap', 'subcase': 'ln_subject/object_swap', 'template': 'temp1'}\n",
      "{'premise': 'The doctor supported the judges .', 'hypothesis': 'The judges supported the doctor .', 'label': 1, 'parse_premise': '(ROOT (S (NP (DT The) (NN doctor)) (VP (VBD supported) (NP (DT the) (NNS judges))) (. .)))', 'parse_hypothesis': '(ROOT (S (NP (DT The) (NNS judges)) (VP (VBD supported) (NP (DT the) (NN doctor))) (. .)))', 'binary_parse_premise': '( ( The doctor ) ( ( supported ( the judges ) ) . ) )', 'binary_parse_hypothesis': '( ( The judges ) ( ( supported ( the doctor ) ) . ) )', 'heuristic': 'lexical_overlap', 'subcase': 'ln_subject/object_swap', 'template': 'temp1'}\n",
      "{'premise': 'The banker supported the scientist .', 'hypothesis': 'The scientist supported the banker .', 'label': 1, 'parse_premise': '(ROOT (S (NP (DT The) (NN banker)) (VP (VBD supported) (NP (DT the) (NN scientist))) (. .)))', 'parse_hypothesis': '(ROOT (S (NP (DT The) (NN scientist)) (VP (VBD supported) (NP (DT the) (NN banker))) (. .)))', 'binary_parse_premise': '( ( The banker ) ( ( supported ( the scientist ) ) . ) )', 'binary_parse_hypothesis': '( ( The scientist ) ( ( supported ( the banker ) ) . ) )', 'heuristic': 'lexical_overlap', 'subcase': 'ln_subject/object_swap', 'template': 'temp1'}\n",
      "{'premise': 'The managers called the tourist .', 'hypothesis': 'The tourist called the managers .', 'label': 1, 'parse_premise': '(ROOT (S (NP (DT The) (NNS managers)) (VP (VBD called) (NP (DT the) (NN tourist))) (. .)))', 'parse_hypothesis': '(ROOT (S (NP (DT The) (NN tourist)) (VP (VBD called) (NP (DT the) (NNS managers))) (. .)))', 'binary_parse_premise': '( ( The managers ) ( ( called ( the tourist ) ) . ) )', 'binary_parse_hypothesis': '( ( The tourist ) ( ( called ( the managers ) ) . ) )', 'heuristic': 'lexical_overlap', 'subcase': 'ln_subject/object_swap', 'template': 'temp1'}\n",
      "{'premise': 'The doctors supported the managers .', 'hypothesis': 'The managers supported the doctors .', 'label': 1, 'parse_premise': '(ROOT (S (NP (DT The) (NNS doctors)) (VP (VBD supported) (NP (DT the) (NNS managers))) (. .)))', 'parse_hypothesis': '(ROOT (S (NP (DT The) (NNS managers)) (VP (VBD supported) (NP (DT the) (NNS doctors))) (. .)))', 'binary_parse_premise': '( ( The doctors ) ( ( supported ( the managers ) ) . ) )', 'binary_parse_hypothesis': '( ( The managers ) ( ( supported ( the doctors ) ) . ) )', 'heuristic': 'lexical_overlap', 'subcase': 'ln_subject/object_swap', 'template': 'temp1'}\n",
      "{'premise': 'The judges advised the secretaries .', 'hypothesis': 'The secretaries advised the judges .', 'label': 1, 'parse_premise': '(ROOT (S (NP (DT The) (NNS judges)) (VP (VBD advised) (NP (DT the) (NNS secretaries))) (. .)))', 'parse_hypothesis': '(ROOT (S (NP (DT The) (NNS secretaries)) (VP (VBD advised) (NP (DT the) (NNS judges))) (. .)))', 'binary_parse_premise': '( ( The judges ) ( ( advised ( the secretaries ) ) . ) )', 'binary_parse_hypothesis': '( ( The secretaries ) ( ( advised ( the judges ) ) . ) )', 'heuristic': 'lexical_overlap', 'subcase': 'ln_subject/object_swap', 'template': 'temp1'}\n",
      "{'premise': 'The presidents introduced the athlete .', 'hypothesis': 'The athlete introduced the presidents .', 'label': 1, 'parse_premise': '(ROOT (S (NP (DT The) (NNS presidents)) (VP (VBD introduced) (NP (DT the) (NN athlete))) (. .)))', 'parse_hypothesis': '(ROOT (S (NP (DT The) (NN athlete)) (VP (VBD introduced) (NP (DT the) (NNS presidents))) (. .)))', 'binary_parse_premise': '( ( The presidents ) ( ( introduced ( the athlete ) ) . ) )', 'binary_parse_hypothesis': '( ( The athlete ) ( ( introduced ( the presidents ) ) . ) )', 'heuristic': 'lexical_overlap', 'subcase': 'ln_subject/object_swap', 'template': 'temp1'}\n"
     ]
    },
    {
     "ename": "KeyboardInterrupt",
     "evalue": "",
     "output_type": "error",
     "traceback": [
      "\u001b[0;31m---------------------------------------------------------------------------\u001b[0m",
      "\u001b[0;31mKeyboardInterrupt\u001b[0m                         Traceback (most recent call last)",
      "Input \u001b[0;32mIn [3]\u001b[0m, in \u001b[0;36m<cell line: 3>\u001b[0;34m()\u001b[0m\n\u001b[1;32m      3\u001b[0m \u001b[38;5;28;01mfor\u001b[39;00m i \u001b[38;5;129;01min\u001b[39;00m dataset[\u001b[38;5;124m'\u001b[39m\u001b[38;5;124mtrain\u001b[39m\u001b[38;5;124m'\u001b[39m]:\n\u001b[1;32m      4\u001b[0m     \u001b[38;5;28mprint\u001b[39m(i)\n\u001b[0;32m----> 5\u001b[0m     \u001b[43mtime\u001b[49m\u001b[38;5;241;43m.\u001b[39;49m\u001b[43msleep\u001b[49m\u001b[43m(\u001b[49m\u001b[38;5;241;43m1\u001b[39;49m\u001b[43m)\u001b[49m\n",
      "\u001b[0;31mKeyboardInterrupt\u001b[0m: "
     ]
    }
   ],
   "source": [
    "import time\n",
    "\n",
    "for i in dataset['train']:\n",
    "    print(i)\n",
    "    time.sleep(1)"
   ]
  },
  {
   "cell_type": "code",
   "execution_count": 12,
   "id": "4d1923f4",
   "metadata": {},
   "outputs": [
    {
     "name": "stderr",
     "output_type": "stream",
     "text": [
      "Reusing dataset paws (/home/alta/Conversational/OET/al826/.cache/huggingface/datasets/paws/labeled_final/1.1.0/8d567c6472623f42bd2cc635cad06932d0f0cd2f897db56013c1180f4317d338)\n"
     ]
    },
    {
     "data": {
      "application/vnd.jupyter.widget-view+json": {
       "model_id": "9003899dd2f24e199f8fd6f1c0e03a73",
       "version_major": 2,
       "version_minor": 0
      },
      "text/plain": [
       "  0%|          | 0/3 [00:00<?, ?it/s]"
      ]
     },
     "metadata": {},
     "output_type": "display_data"
    },
    {
     "name": "stdout",
     "output_type": "stream",
     "text": [
      "[91.3375, 91.57499999999999, 91.4875, 91.9625, 91.2]\n",
      "(91.51249999999999, 0.2589642832515712)\n"
     ]
    }
   ],
   "source": [
    "from src.system_loader import EnsembleLoader, SystemLoader\n",
    "from src.utils.evaluation import get_seed_accuracy, get_accuracy\n",
    "\n",
    "system = EnsembleLoader('trained_models/hpc/baseline') \n",
    "seed_preds  = system.load_seed_preds('paws', mode='test')\n",
    "labels = SystemLoader.load_labels('paws', mode='test')\n",
    "print(get_seed_accuracy(seed_preds, labels))"
   ]
  },
  {
   "cell_type": "code",
   "execution_count": 13,
   "id": "5767057b",
   "metadata": {},
   "outputs": [],
   "source": [
    "import numpy as np\n",
    "\n",
    "sample_ids = [k for k in labels]\n",
    "seed_1 = np.array([seed_preds[0][k] for k in sample_ids])\n",
    "seed_2 = np.array([seed_preds[1][k] for k in sample_ids])\n",
    "seed_3 = np.array([seed_preds[2][k] for k in sample_ids])\n",
    "seed_4 = np.array([seed_preds[3][k] for k in sample_ids])\n",
    "seed_5 = np.array([seed_preds[4][k] for k in sample_ids])\n",
    "labels_np = np.array([labels[k]     for k in sample_ids])"
   ]
  },
  {
   "cell_type": "code",
   "execution_count": 14,
   "id": "100ccddc",
   "metadata": {},
   "outputs": [
    {
     "name": "stdout",
     "output_type": "stream",
     "text": [
      "8000\n"
     ]
    }
   ],
   "source": [
    "print(len(labels_np))"
   ]
  },
  {
   "cell_type": "code",
   "execution_count": 15,
   "id": "490a75d0",
   "metadata": {},
   "outputs": [],
   "source": [
    "incorrect_1 = [k for k in sample_ids if seed_preds[0][k] != labels[k]]\n",
    "incorrect_2 = [k for k in sample_ids if seed_preds[1][k] != labels[k]]"
   ]
  },
  {
   "cell_type": "code",
   "execution_count": 16,
   "id": "bac8e7fd",
   "metadata": {},
   "outputs": [
    {
     "name": "stdout",
     "output_type": "stream",
     "text": [
      "0.5463800904977375\n"
     ]
    }
   ],
   "source": [
    "overlap = len(set(incorrect_1) & set(incorrect_2))\n",
    "union   = len(set(incorrect_1) | set(incorrect_2))\n",
    "\n",
    "print(overlap/union)"
   ]
  },
  {
   "cell_type": "code",
   "execution_count": 17,
   "id": "cea229fc",
   "metadata": {},
   "outputs": [
    {
     "name": "stdout",
     "output_type": "stream",
     "text": [
      "0.95075\n"
     ]
    }
   ],
   "source": [
    "overlap = (seed_4 == labels_np) == (seed_1 == labels_np)\n",
    "print(overlap.sum()/labels_np.shape[0])"
   ]
  },
  {
   "cell_type": "code",
   "execution_count": null,
   "id": "a6c7f3ac",
   "metadata": {},
   "outputs": [],
   "source": [
    "from src."
   ]
  }
 ],
 "metadata": {
  "kernelspec": {
   "display_name": "Python 3 (ipykernel)",
   "language": "python",
   "name": "python3"
  },
  "language_info": {
   "codemirror_mode": {
    "name": "ipython",
    "version": 3
   },
   "file_extension": ".py",
   "mimetype": "text/x-python",
   "name": "python",
   "nbconvert_exporter": "python",
   "pygments_lexer": "ipython3",
   "version": "3.9.12"
  }
 },
 "nbformat": 4,
 "nbformat_minor": 5
}
