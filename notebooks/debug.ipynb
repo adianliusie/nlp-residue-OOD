{
 "cells": [
  {
   "cell_type": "code",
   "execution_count": 1,
   "id": "8f56c496",
   "metadata": {},
   "outputs": [
    {
     "name": "stdout",
     "output_type": "stream",
     "text": [
      "/home/alta/Conversational/OET/al826/2022/shortcuts/OOD_generalisation\n"
     ]
    }
   ],
   "source": [
    "%cd .."
   ]
  },
  {
   "cell_type": "code",
   "execution_count": 2,
   "id": "5ce5e24a",
   "metadata": {},
   "outputs": [
    {
     "name": "stdout",
     "output_type": "stream",
     "text": [
      "###################\n",
      "mnli\n",
      "###################\n"
     ]
    },
    {
     "name": "stderr",
     "output_type": "stream",
     "text": [
      "Reusing dataset glue (/home/alta/Conversational/OET/al826/.cache/huggingface/datasets/glue/mnli/1.0.0/dacbe3125aa31d7f70367a07a8a9e72a5a0bfeb5fc42e75c9db75b96da6053ad)\n"
     ]
    },
    {
     "data": {
      "application/vnd.jupyter.widget-view+json": {
       "model_id": "b040c23af66c4bc59e2f1d7e5c73099a",
       "version_major": 2,
       "version_minor": 0
      },
      "text/plain": [
       "  0%|          | 0/5 [00:00<?, ?it/s]"
      ]
     },
     "metadata": {},
     "output_type": "display_data"
    }
   ],
   "source": [
    "from src.helpers import DataLoader\n",
    "from src.utils.data_utils import load_data\n",
    "\n",
    "train, dev, test = load_data('mnli')\n",
    "#data_loader = DataLoader(None)\n",
    "#train, dev, test = data_loader('snli')\n"
   ]
  },
  {
   "cell_type": "code",
   "execution_count": 3,
   "id": "323d402f",
   "metadata": {},
   "outputs": [
    {
     "name": "stdout",
     "output_type": "stream",
     "text": [
      "50000 10000 9815\n"
     ]
    }
   ],
   "source": [
    "print(len(train), len(dev), len(test))"
   ]
  },
  {
   "cell_type": "code",
   "execution_count": 4,
   "id": "f1b013f0",
   "metadata": {},
   "outputs": [
    {
     "name": "stdout",
     "output_type": "stream",
     "text": [
      "Counter({1: 16693, 0: 16662, 2: 16645})\n"
     ]
    }
   ],
   "source": [
    "from collections import Counter\n",
    "print(Counter([i['label'] for i in train]))"
   ]
  },
  {
   "cell_type": "code",
   "execution_count": 5,
   "id": "dac5fead",
   "metadata": {},
   "outputs": [],
   "source": [
    "import torch\n",
    "\n",
    "from src.models import select_model\n",
    "from src.helpers.dir_helper import DirHelper\n",
    "\n",
    "def load_model(exp_path):\n",
    "    dir_ = DirHelper.load_dir(exp_path)\n",
    "\n",
    "    args = dir_.load_args('model_args.json')\n",
    "    model = select_model(model_name=args.transformer)\n",
    "    model.load_state_dict(\n",
    "        torch.load(dir_.abs_path + f'/models/base.pt'))\n",
    "    return model\n",
    "\n",
    "model_path = '/home/alta/Conversational/OET/al826/2022/shortcuts/data_pruning/trained_models/temp/0'   \n",
    "model = load_model(model_path)"
   ]
  }
 ],
 "metadata": {
  "kernelspec": {
   "display_name": "Python 3 (ipykernel)",
   "language": "python",
   "name": "python3"
  },
  "language_info": {
   "codemirror_mode": {
    "name": "ipython",
    "version": 3
   },
   "file_extension": ".py",
   "mimetype": "text/x-python",
   "name": "python",
   "nbconvert_exporter": "python",
   "pygments_lexer": "ipython3",
   "version": "3.9.12"
  }
 },
 "nbformat": 4,
 "nbformat_minor": 5
}
