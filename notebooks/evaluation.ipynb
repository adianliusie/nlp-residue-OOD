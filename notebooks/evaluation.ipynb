{
 "cells": [
  {
   "cell_type": "code",
   "execution_count": 1,
   "id": "4768c765",
   "metadata": {},
   "outputs": [
    {
     "name": "stdout",
     "output_type": "stream",
     "text": [
      "/home/alta/Conversational/OET/al826/2022/shortcuts/OOD_generalisation\n"
     ]
    }
   ],
   "source": [
    "%cd .."
   ]
  },
  {
   "cell_type": "code",
   "execution_count": null,
   "id": "bb2b2a22",
   "metadata": {
    "scrolled": false
   },
   "outputs": [],
   "source": [
    "from src.system_loader import EnsembleLoader, SystemLoader\n",
    "from src.utils.evaluation import get_seed_accuracy, get_accuracy\n",
    "\n",
    "system = EnsembleLoader('trained_models/baseline/hans2') \n",
    "seed_preds  = system.load_seed_preds('snli', mode='test')\n",
    "labels = SystemLoader.load_labels('snli', mode='test')\n",
    "print(get_seed_accuracy(seed_preds, labels))"
   ]
  },
  {
   "cell_type": "code",
   "execution_count": null,
   "id": "d4459799",
   "metadata": {},
   "outputs": [],
   "source": [
    "from src.system_loader import EnsembleLoader, SystemLoader\n",
    "from src.utils.evaluation import get_seed_accuracy, get_accuracy\n",
    "\n",
    "system = EnsembleLoader('trained_models/baseline/hans2') \n",
    "seed_preds  = system.load_seed_preds('mnli', mode='test')\n",
    "labels = SystemLoader.load_labels('mnli', mode='test')\n",
    "print(get_seed_accuracy(seed_preds, labels))"
   ]
  },
  {
   "cell_type": "code",
   "execution_count": null,
   "id": "9ab1a99d",
   "metadata": {},
   "outputs": [],
   "source": []
  }
 ],
 "metadata": {
  "kernelspec": {
   "display_name": "Python 3 (ipykernel)",
   "language": "python",
   "name": "python3"
  },
  "language_info": {
   "codemirror_mode": {
    "name": "ipython",
    "version": 3
   },
   "file_extension": ".py",
   "mimetype": "text/x-python",
   "name": "python",
   "nbconvert_exporter": "python",
   "pygments_lexer": "ipython3",
   "version": "3.9.12"
  }
 },
 "nbformat": 4,
 "nbformat_minor": 5
}
